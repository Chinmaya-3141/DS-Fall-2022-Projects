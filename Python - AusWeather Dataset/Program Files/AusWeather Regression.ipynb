{
 "cells": [
  {
   "cell_type": "code",
   "execution_count": 1,
   "id": "2145a16f",
   "metadata": {},
   "outputs": [],
   "source": [
    "import numpy as np\n",
    "import pandas as pd"
   ]
  },
  {
   "cell_type": "code",
   "execution_count": 2,
   "id": "0fb6a97a",
   "metadata": {},
   "outputs": [
    {
     "name": "stdout",
     "output_type": "stream",
     "text": [
      "<class 'pandas.core.frame.DataFrame'>\n",
      "RangeIndex: 217143 entries, 0 to 217142\n",
      "Data columns (total 24 columns):\n",
      " #   Column         Non-Null Count   Dtype  \n",
      "---  ------         --------------   -----  \n",
      " 0   Date           217143 non-null  object \n",
      " 1   Location       217143 non-null  object \n",
      " 2   MinTemp        213597 non-null  float64\n",
      " 3   MaxTemp        213784 non-null  float64\n",
      " 4   Rainfall       210781 non-null  float64\n",
      " 5   Evaporation    101279 non-null  float64\n",
      " 6   Sunshine       92165 non-null   float64\n",
      " 7   WindGustDir    200813 non-null  object \n",
      " 8   WindGustSpeed  200920 non-null  float64\n",
      " 9   WindDir9am     200103 non-null  object \n",
      " 10  WindDir3pm     207905 non-null  object \n",
      " 11  WindSpeed9am   212983 non-null  float64\n",
      " 12  WindSpeed3pm   209412 non-null  float64\n",
      " 13  Humidity9am    212294 non-null  float64\n",
      " 14  Humidity3pm    208212 non-null  float64\n",
      " 15  Pressure9am    193119 non-null  float64\n",
      " 16  Pressure3pm    193138 non-null  float64\n",
      " 17  Cloud9am       123473 non-null  float64\n",
      " 18  Cloud3pm       117663 non-null  float64\n",
      " 19  Temp9am        213519 non-null  float64\n",
      " 20  Temp3pm        209360 non-null  float64\n",
      " 21  RainToday      210781 non-null  object \n",
      " 22  RISK_MM        210782 non-null  float64\n",
      " 23  RainTomorrow   210782 non-null  object \n",
      "dtypes: float64(17), object(7)\n",
      "memory usage: 39.8+ MB\n"
     ]
    }
   ],
   "source": [
    "data = pd.read_csv('weatherAUS.csv')\n",
    "data.info()"
   ]
  },
  {
   "cell_type": "code",
   "execution_count": null,
   "id": "694d863c",
   "metadata": {},
   "outputs": [],
   "source": []
  }
 ],
 "metadata": {
  "kernelspec": {
   "display_name": "Python 3 (ipykernel)",
   "language": "python",
   "name": "python3"
  },
  "language_info": {
   "codemirror_mode": {
    "name": "ipython",
    "version": 3
   },
   "file_extension": ".py",
   "mimetype": "text/x-python",
   "name": "python",
   "nbconvert_exporter": "python",
   "pygments_lexer": "ipython3",
   "version": "3.9.12"
  }
 },
 "nbformat": 4,
 "nbformat_minor": 5
}
